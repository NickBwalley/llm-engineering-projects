{
 "cells": [
  {
   "cell_type": "markdown",
   "id": "a230c2b8-21a7-4300-97af-ed7840929d98",
   "metadata": {},
   "source": [
    "# Website Summarizer using GPT4o-mini"
   ]
  },
  {
   "cell_type": "markdown",
   "id": "97862f6d-d72e-4b54-b5b5-3657d29bef3a",
   "metadata": {},
   "source": [
    "## Hey there! \n",
    "**This is my first project using LLMs in this case we are going to use the ubiquitous `ChatGPT 4o-mini` API to summarize the content of a website.**\n",
    "\n",
    "If you have any problems at all, please do reach out.  \n",
    "I'm available on LinkedIn at https://www.linkedin.com/in/nick-bwalley-49220a269/ \n",
    "Please feel free to reach out and if you'd like to connect, please connect:) I love connecting ;)"
   ]
  },
  {
   "cell_type": "code",
   "execution_count": null,
   "id": "a50e7af7-bf57-4ccd-bffb-0a98bfe538ff",
   "metadata": {},
   "outputs": [],
   "source": [
    "# imports\n",
    "\n",
    "import os\n",
    "import requests\n",
    "from dotenv import load_dotenv\n",
    "from bs4 import BeautifulSoup\n",
    "from IPython.display import Markdown, display\n",
    "from openai import OpenAI"
   ]
  },
  {
   "cell_type": "markdown",
   "id": "5d8e50dd-c702-4253-91e8-ccbb5047438f",
   "metadata": {},
   "source": [
    "# Connecting to OpenAI\n",
    "\n",
    "The next cell is where we load in the environment variables in your `.env` file and connect to OpenAI."
   ]
  },
  {
   "cell_type": "code",
   "execution_count": null,
   "id": "c5a6f636-80eb-4666-9fdc-908d01eba915",
   "metadata": {},
   "outputs": [],
   "source": [
    "# Load environment variables in a file called .env\n",
    "\n",
    "load_dotenv(override=True)\n",
    "api_key = os.getenv('OPENAI_API_KEY')\n",
    "\n",
    "# Check the key\n",
    "\n",
    "if not api_key:\n",
    "    print(\"No API key was found - please head over to the troubleshooting notebook in this folder to identify & fix!\")\n",
    "elif not api_key.startswith(\"sk-proj-\"):\n",
    "    print(\"An API key was found, but it doesn't start sk-proj-; please check you're using the right key - see troubleshooting notebook\")\n",
    "elif api_key.strip() != api_key:\n",
    "    print(\"An API key was found, but it looks like it might have space or tab characters at the start or end - please remove them - see troubleshooting notebook\")\n",
    "else:\n",
    "    print(\"API key found and looks good so far!\")"
   ]
  },
  {
   "cell_type": "code",
   "execution_count": null,
   "id": "e8ee3f78-ac4c-4c6e-87d7-e275347dc2fb",
   "metadata": {},
   "outputs": [],
   "source": [
    "openai = OpenAI() # Instantiates the openai"
   ]
  },
  {
   "cell_type": "code",
   "execution_count": null,
   "id": "dd7e3219-be35-4a50-9eee-9271271583f1",
   "metadata": {},
   "outputs": [],
   "source": [
    "# Let's make a quick call to a Frontier model to get started, as a preview!\n",
    "message = \"Hello, GPT! This is my first ever message to you! Hi!\"\n",
    "response = openai.chat.completions.create(model=\"gpt-4o-mini\", messages=[{\"role\":\"user\", \"content\":message}])\n",
    "print(response.choices[0].message.content)"
   ]
  },
  {
   "cell_type": "code",
   "execution_count": null,
   "id": "66e45379-4f01-4f4d-9864-b4b9727fc87b",
   "metadata": {},
   "outputs": [],
   "source": [
    "# A class to represent a Webpage\n",
    "# If you're not familiar with Classes, check out the \"Intermediate Python\" notebook\n",
    "\n",
    "# Some websites need you to use proper headers when fetching them:\n",
    "headers = {\n",
    " \"User-Agent\": \"Mozilla/5.0 (Windows NT 10.0; Win64; x64) AppleWebKit/537.36 (KHTML, like Gecko) Chrome/117.0.0.0 Safari/537.36\"\n",
    "}\n",
    "\n",
    "class Website:\n",
    "\n",
    "    def __init__(self, url):\n",
    "        \"\"\"\n",
    "        Create this Website object from the given url using the BeautifulSoup library\n",
    "        \"\"\"\n",
    "        self.url = url\n",
    "        response = requests.get(url, headers=headers)\n",
    "        soup = BeautifulSoup(response.content, 'html.parser')\n",
    "        self.title = soup.title.string if soup.title else \"No title found\"\n",
    "        for irrelevant in soup.body([\"script\", \"style\", \"img\", \"input\"]):\n",
    "            irrelevant.decompose()\n",
    "        self.text = soup.body.get_text(separator=\"\\n\", strip=True)"
   ]
  },
  {
   "cell_type": "code",
   "execution_count": null,
   "id": "d0700824-4ad9-40e2-a56a-4ee168f629fd",
   "metadata": {},
   "outputs": [],
   "source": [
    "nick = Website(\"https://github.com/NickBwalley\")\n",
    "print(nick.title)\n",
    "print(nick.text)"
   ]
  },
  {
   "cell_type": "markdown",
   "id": "8da11d60-00af-4a45-ae5c-ed630aea2750",
   "metadata": {},
   "source": [
    "## Types of prompts\n",
    "\n",
    "You may know this already - but if not, you will get very familiar with it!\n",
    "\n",
    "Models like GPT4o have been trained to receive instructions in a particular way.\n",
    "\n",
    "They expect to receive:\n",
    "\n",
    "**A system prompt** that tells them what task they are performing and what tone they should use\n",
    "\n",
    "**A user prompt** -- the conversation starter that they should reply to"
   ]
  },
  {
   "cell_type": "code",
   "execution_count": null,
   "id": "823e01f5-a3b2-4713-881c-09cb2a26f625",
   "metadata": {},
   "outputs": [],
   "source": [
    "# Define our system prompt - you can experiment with this later, changing the last sentence to 'Respond in markdown in Spanish.\"\n",
    "\n",
    "system_prompt = \"You are an assistant that analyzes the contents of a website \\\n",
    "and provides a short summary, ignoring text that might be navigation related. \\\n",
    "Respond in markdown.\""
   ]
  },
  {
   "cell_type": "code",
   "execution_count": null,
   "id": "6e8823ef-1a30-4544-9e09-65d9bc0abee0",
   "metadata": {},
   "outputs": [],
   "source": [
    "# A function that writes a User Prompt that asks for summaries of websites:\n",
    "\n",
    "def user_prompt_for(website):\n",
    "    user_prompt = f\"You are looking at a website titled {website.title}\"\n",
    "    user_prompt += \"\\nThe contents of this website is as follows; \\\n",
    "please provide a short summary of this website in markdown. \\\n",
    "If it includes news or announcements, then summarize these too.\\n\\n\"\n",
    "    user_prompt += website.text\n",
    "    return user_prompt"
   ]
  },
  {
   "cell_type": "code",
   "execution_count": null,
   "id": "e835bcbc-48b3-48ad-8ecc-565c4e52ba9b",
   "metadata": {},
   "outputs": [],
   "source": [
    "print(user_prompt_for(nick))"
   ]
  },
  {
   "cell_type": "markdown",
   "id": "2a84e391-2cdd-4a2d-a52d-c60baca2f793",
   "metadata": {},
   "source": [
    "## Messages\n",
    "\n",
    "The API from OpenAI expects to receive messages in a particular structure.\n",
    "Many of the other APIs share this structure:\n",
    "\n",
    "```\n",
    "[\n",
    "    {\"role\": \"system\", \"content\": \"system message goes here\"},\n",
    "    {\"role\": \"user\", \"content\": \"user message goes here\"}\n",
    "]\n",
    "\n",
    "To give you a preview, the next 2 cells make a rather simple call - we won't stretch the might GPT (yet!)"
   ]
  },
  {
   "cell_type": "code",
   "execution_count": null,
   "id": "cefb7356-0009-42db-9c9e-33020755d55c",
   "metadata": {},
   "outputs": [],
   "source": [
    "messages = [\n",
    "    {\"role\": \"system\", \"content\": \"You are a snarky assistant\"},\n",
    "    {\"role\": \"user\", \"content\": \"What is 2 + 2?\"}\n",
    "]"
   ]
  },
  {
   "cell_type": "code",
   "execution_count": null,
   "id": "76fd4aec-cf33-4913-b8cb-c6c4e92a42d3",
   "metadata": {},
   "outputs": [],
   "source": [
    "# To give you a preview -- calling OpenAI with system and user messages:\n",
    "\n",
    "response = openai.chat.completions.create(model=\"gpt-4o-mini\", messages=messages)\n",
    "print(response.choices[0].message.content)\n"
   ]
  },
  {
   "cell_type": "code",
   "execution_count": null,
   "id": "af68d49b-f72d-4556-bd64-508c706923f8",
   "metadata": {},
   "outputs": [],
   "source": [
    "## And now let's build useful messages for GPT-4o-mini, using a function\n",
    "# See how this function creates exactly the format above\n",
    "\n",
    "def messages_for(website):\n",
    "    return [\n",
    "        {\"role\": \"system\", \"content\": system_prompt},\n",
    "        {\"role\": \"user\", \"content\": user_prompt_for(website)}\n",
    "    ]\n",
    "\n",
    "# Try this out, and then try for a few more websites\n",
    "\n",
    "messages_for(nick)"
   ]
  },
  {
   "cell_type": "code",
   "execution_count": null,
   "id": "d0fd53d3-8c23-4d54-89cf-d92e3580c0be",
   "metadata": {},
   "outputs": [],
   "source": [
    "# And now: call the OpenAI API. You will get very familiar with this!\n",
    "\n",
    "def summarize(url):\n",
    "    website = Website(url)\n",
    "    response = openai.chat.completions.create(\n",
    "        model = \"gpt-4o-mini\",\n",
    "        messages = messages_for(website)\n",
    "    )\n",
    "    return response.choices[0].message.content"
   ]
  },
  {
   "cell_type": "code",
   "execution_count": null,
   "id": "926ef2c5-a5f5-4737-becc-2f56f16fac67",
   "metadata": {},
   "outputs": [],
   "source": [
    "summarize(\"https://github.com/NickBwalley\")"
   ]
  },
  {
   "cell_type": "code",
   "execution_count": null,
   "id": "3846b20a-2716-4ede-bd27-56b50e6828f3",
   "metadata": {},
   "outputs": [],
   "source": [
    "# A function to display this nicely in the Jupyter output, using markdown\n",
    "\n",
    "def display_summary(url):\n",
    "    summary = summarize(url)\n",
    "    display(Markdown(summary))"
   ]
  },
  {
   "cell_type": "code",
   "execution_count": null,
   "id": "1f76a395-bff3-45d0-97fc-f1798d2f262c",
   "metadata": {},
   "outputs": [],
   "source": [
    "display_summary(\"https://github.com/NickBwalley\")"
   ]
  },
  {
   "cell_type": "code",
   "execution_count": null,
   "id": "4c681f07-7823-485a-bcad-2d9e1c58ac70",
   "metadata": {},
   "outputs": [],
   "source": []
  }
 ],
 "metadata": {
  "kernelspec": {
   "display_name": "Python 3 (ipykernel)",
   "language": "python",
   "name": "python3"
  },
  "language_info": {
   "codemirror_mode": {
    "name": "ipython",
    "version": 3
   },
   "file_extension": ".py",
   "mimetype": "text/x-python",
   "name": "python",
   "nbconvert_exporter": "python",
   "pygments_lexer": "ipython3",
   "version": "3.11.11"
  }
 },
 "nbformat": 4,
 "nbformat_minor": 5
}
