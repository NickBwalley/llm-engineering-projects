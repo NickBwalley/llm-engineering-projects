{
 "cells": [
  {
   "cell_type": "markdown",
   "id": "2c5708e8-d125-433b-8a12-0a6dd354e84f",
   "metadata": {},
   "source": [
    "# NICK'S EXPERT QUERY ANSWER \n",
    "### Hello guys, I have created this Expert Conversational Chatbot that  \n",
    "### can be able to answer any question about How To Talk To Girls... 🤩🤩"
   ]
  },
  {
   "cell_type": "markdown",
   "id": "0914620a-0b5b-478f-86ce-0da940fa33b7",
   "metadata": {},
   "source": [
    "## 1️⃣ Setup: Imports & Configuration"
   ]
  },
  {
   "cell_type": "code",
   "execution_count": 26,
   "id": "2bf6ee3f-7fd5-439c-8948-a20f1957b71e",
   "metadata": {},
   "outputs": [],
   "source": [
    "# Imports \n",
    "import os\n",
    "import glob\n",
    "from dotenv import load_dotenv\n",
    "import gradio as gr\n",
    "\n",
    "# LangChain imports\n",
    "from langchain.document_loaders import DirectoryLoader, TextLoader\n",
    "from langchain.text_splitter import CharacterTextSplitter\n",
    "from langchain.schema import Document\n",
    "from langchain_openai import OpenAIEmbeddings, ChatOpenAI\n",
    "from langchain_chroma import Chroma\n",
    "import numpy as np\n",
    "from sklearn.manifold import TSNE\n",
    "import plotly.graph_objects as go\n",
    "from langchain.memory import ConversationBufferMemory\n",
    "from langchain.chains import ConversationalRetrievalChain"
   ]
  },
  {
   "cell_type": "code",
   "execution_count": 27,
   "id": "2564a760-38ca-49e3-8a26-8d3d88dbce80",
   "metadata": {},
   "outputs": [],
   "source": [
    "# Load environment variables\n",
    "load_dotenv()\n",
    "os.environ[\"OPENAI_API_KEY\"] = os.getenv(\"OPENAI_API_KEY\", \"your-key-if-not-using-env\")"
   ]
  },
  {
   "cell_type": "code",
   "execution_count": 28,
   "id": "32ffb0d4-4248-434a-88cd-43edc7c5772b",
   "metadata": {},
   "outputs": [],
   "source": [
    "# Define Model and Database Name\n",
    "MODEL = \"gpt-4o-mini\"\n",
    "DB_NAME = \"vector_db\""
   ]
  },
  {
   "cell_type": "markdown",
   "id": "1d667516-322f-46ff-81fb-d9d1c3d40dc6",
   "metadata": {},
   "source": [
    "## 2️⃣ Load and Process the Markdown File"
   ]
  },
  {
   "cell_type": "code",
   "execution_count": 30,
   "id": "c3ca8177-a3df-4b96-b5f4-4c36f12ea3f7",
   "metadata": {},
   "outputs": [
    {
     "name": "stdout",
     "output_type": "stream",
     "text": [
      "✅ Loaded 1 documents from knowledge base.\n"
     ]
    }
   ],
   "source": [
    "# Ensure we're loading only directories inside the 'knowledge-base' folder\n",
    "folders = [f for f in glob.glob(\"knowledge-base/*\") if os.path.isdir(f)]\n",
    "\n",
    "# Set text loader configurations\n",
    "text_loader_kwargs = {'encoding': 'utf-8'}\n",
    "\n",
    "documents = []\n",
    "for folder in folders:\n",
    "    doc_type = os.path.basename(folder)\n",
    "    \n",
    "    # Load all markdown files from the folder\n",
    "    loader = DirectoryLoader(folder, glob=\"**/*.md\", loader_cls=TextLoader, loader_kwargs=text_loader_kwargs)\n",
    "    folder_docs = loader.load()\n",
    "\n",
    "    for doc in folder_docs:\n",
    "        doc.metadata[\"doc_type\"] = doc_type\n",
    "        documents.append(doc)\n",
    "\n",
    "# Ensure \"How-to-Talk-to-Girls.md\" is loaded\n",
    "if not documents:\n",
    "    raise ValueError(\"No documents found! Ensure 'How-to-Talk-to-Girls.md' is in 'knowledge-base'.\")\n",
    "\n",
    "print(f\"✅ Loaded {len(documents)} documents from knowledge base.\")\n"
   ]
  },
  {
   "cell_type": "markdown",
   "id": "a853e44a-94ed-43a0-9f17-ad46d5f894a5",
   "metadata": {},
   "source": [
    "## 3️⃣ Split Documents into Chunks for Vector Storage"
   ]
  },
  {
   "cell_type": "code",
   "execution_count": 31,
   "id": "d8569dce-25a4-42b0-9b4a-26b5b2699b3f",
   "metadata": {},
   "outputs": [
    {
     "name": "stderr",
     "output_type": "stream",
     "text": [
      "Created a chunk of size 1180, which is longer than the specified 1000\n"
     ]
    },
    {
     "name": "stdout",
     "output_type": "stream",
     "text": [
      "✅ Split documents into 180 chunks for vector storage.\n"
     ]
    }
   ],
   "source": [
    "# Split the document into smaller chunks for embedding\n",
    "text_splitter = CharacterTextSplitter(chunk_size=1000, chunk_overlap=200)\n",
    "chunks = text_splitter.split_documents(documents)\n",
    "\n",
    "print(f\"✅ Split documents into {len(chunks)} chunks for vector storage.\")\n"
   ]
  },
  {
   "cell_type": "markdown",
   "id": "c68781ea-f5dd-436c-9949-c3999ad1b104",
   "metadata": {},
   "source": [
    "## 4️⃣ Create & Store Embeddings in ChromaDB"
   ]
  },
  {
   "cell_type": "code",
   "execution_count": 32,
   "id": "b327260a-9857-40f2-b862-39cc8842f70c",
   "metadata": {},
   "outputs": [
    {
     "name": "stdout",
     "output_type": "stream",
     "text": [
      "✅ Vectorstore created with 180 document chunks.\n"
     ]
    }
   ],
   "source": [
    "# Use OpenAI embeddings (can replace with HuggingFace if needed)\n",
    "embeddings = OpenAIEmbeddings()\n",
    "\n",
    "# Delete existing vector database if it exists\n",
    "if os.path.exists(DB_NAME):\n",
    "    Chroma(persist_directory=DB_NAME, embedding_function=embeddings).delete_collection()\n",
    "\n",
    "# Create new vector store\n",
    "vectorstore = Chroma.from_documents(documents=chunks, embedding=embeddings, persist_directory=DB_NAME)\n",
    "print(f\"✅ Vectorstore created with {vectorstore._collection.count()} document chunks.\")\n",
    "\n",
    "# Retrieve collection for later use\n",
    "collection = vectorstore._collection\n"
   ]
  },
  {
   "cell_type": "markdown",
   "id": "a053261c-75ee-4092-ba4b-ee664b899a8a",
   "metadata": {},
   "source": [
    "## 5️⃣ Retrieve a Sample Embedding & Validate"
   ]
  },
  {
   "cell_type": "code",
   "execution_count": 33,
   "id": "640f0e50-1618-4b0f-af57-8d4635961c7b",
   "metadata": {},
   "outputs": [
    {
     "name": "stdout",
     "output_type": "stream",
     "text": [
      "✅ The vectors have 1536 dimensions.\n"
     ]
    }
   ],
   "source": [
    "# Get a sample embedding to verify it worked\n",
    "sample_embedding = collection.get(limit=1, include=[\"embeddings\"])[\"embeddings\"][0]\n",
    "dimensions = len(sample_embedding)\n",
    "\n",
    "print(f\"✅ The vectors have {dimensions} dimensions.\")\n"
   ]
  },
  {
   "cell_type": "markdown",
   "id": "b9e01d44-b850-4096-927c-75e68b489a16",
   "metadata": {},
   "source": [
    "## 6️⃣ Set Up Conversation Memory & LLM Chain"
   ]
  },
  {
   "cell_type": "code",
   "execution_count": 34,
   "id": "2b3f2289-1e10-4702-8b53-ddcc723071b0",
   "metadata": {},
   "outputs": [
    {
     "name": "stdout",
     "output_type": "stream",
     "text": [
      "✅ Conversation chain with memory initialized.\n"
     ]
    },
    {
     "name": "stderr",
     "output_type": "stream",
     "text": [
      "C:\\Users\\nickb\\AppData\\Local\\Temp\\ipykernel_8660\\1847240638.py:5: LangChainDeprecationWarning: Please see the migration guide at: https://python.langchain.com/docs/versions/migrating_memory/\n",
      "  memory = ConversationBufferMemory(memory_key=\"chat_history\", return_messages=True)\n"
     ]
    }
   ],
   "source": [
    "# Initialize the language model\n",
    "llm = ChatOpenAI(temperature=0.7, model_name=MODEL)\n",
    "\n",
    "# Set up conversation memory for history tracking\n",
    "memory = ConversationBufferMemory(memory_key=\"chat_history\", return_messages=True)\n",
    "\n",
    "# Create retriever abstraction over vector database\n",
    "retriever = vectorstore.as_retriever()\n",
    "\n",
    "# Set up the conversational retrieval chain (RAG)\n",
    "conversation_chain = ConversationalRetrievalChain.from_llm(llm=llm, retriever=retriever, memory=memory)\n",
    "\n",
    "print(\"✅ Conversation chain with memory initialized.\")\n"
   ]
  },
  {
   "cell_type": "markdown",
   "id": "678ae7cd-aeaf-4482-b61a-633483da15fd",
   "metadata": {},
   "source": [
    "## 7️⃣ Define Chatbot Function for Gradio"
   ]
  },
  {
   "cell_type": "code",
   "execution_count": 35,
   "id": "83c41ed4-93e7-4e1f-999d-af115da6c7b7",
   "metadata": {},
   "outputs": [],
   "source": [
    "# Chat function for Gradio interface\n",
    "def chat(message, history):\n",
    "    \"\"\"\n",
    "    Processes user input and retrieves responses from the LLM with vector memory.\n",
    "    \"\"\"\n",
    "    result = conversation_chain.invoke({\"question\": message})\n",
    "    return result[\"answer\"]\n"
   ]
  },
  {
   "cell_type": "markdown",
   "id": "f088c6f5-1e50-492e-a707-d4eff4ad56cd",
   "metadata": {},
   "source": [
    "## 8️⃣ Build Gradio Chat Interface"
   ]
  },
  {
   "cell_type": "code",
   "execution_count": 36,
   "id": "03b4b650-cf8a-4296-9f46-6418f83c5d9f",
   "metadata": {},
   "outputs": [
    {
     "name": "stdout",
     "output_type": "stream",
     "text": [
      "* Running on local URL:  http://127.0.0.1:7860\n",
      "\n",
      "To create a public link, set `share=True` in `launch()`.\n"
     ]
    },
    {
     "data": {
      "text/html": [
       "<div><iframe src=\"http://127.0.0.1:7860/\" width=\"100%\" height=\"500\" allow=\"autoplay; camera; microphone; clipboard-read; clipboard-write;\" frameborder=\"0\" allowfullscreen></iframe></div>"
      ],
      "text/plain": [
       "<IPython.core.display.HTML object>"
      ]
     },
     "metadata": {},
     "output_type": "display_data"
    },
    {
     "name": "stdout",
     "output_type": "stream",
     "text": [
      "✅ Gradio chat interface running. Open browser to interact.\n"
     ]
    }
   ],
   "source": [
    "# Launch the chat interface with Gradio\n",
    "view = gr.ChatInterface(chat, type=\"messages\").launch(inbrowser=True)\n",
    "\n",
    "print(\"✅ Gradio chat interface running. Open browser to interact.\")\n"
   ]
  },
  {
   "cell_type": "code",
   "execution_count": null,
   "id": "045aad5a-534f-483a-8c20-e36135cfae48",
   "metadata": {},
   "outputs": [],
   "source": []
  }
 ],
 "metadata": {
  "kernelspec": {
   "display_name": "Python 3 (ipykernel)",
   "language": "python",
   "name": "python3"
  },
  "language_info": {
   "codemirror_mode": {
    "name": "ipython",
    "version": 3
   },
   "file_extension": ".py",
   "mimetype": "text/x-python",
   "name": "python",
   "nbconvert_exporter": "python",
   "pygments_lexer": "ipython3",
   "version": "3.11.11"
  }
 },
 "nbformat": 4,
 "nbformat_minor": 5
}
